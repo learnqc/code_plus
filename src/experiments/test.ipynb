{
 "cells": [
  {
   "cell_type": "code",
   "execution_count": 43,
   "metadata": {},
   "outputs": [],
   "source": [
    "from hume.simulator.circuit import QuantumCircuit, QuantumRegister\n",
    "\n",
    "from hume.qiskit.util import print_circuit, show_reports"
   ]
  },
  {
   "cell_type": "code",
   "execution_count": 37,
   "metadata": {},
   "outputs": [],
   "source": [
    "n = 3\n",
    "v = 4.3"
   ]
  },
  {
   "cell_type": "code",
   "execution_count": 38,
   "metadata": {},
   "outputs": [],
   "source": [
    "from math import pi\n",
    "\n",
    "def encode_frequency(n, v):\n",
    "    q = QuantumRegister(n)\n",
    "    qc = QuantumCircuit(q)\n",
    "\n",
    "    for j in range(n):\n",
    "        qc.h(q[j])\n",
    "\n",
    "    for j in range(n):\n",
    "        qc.p(2 * pi / 2 ** (n - j) * v, q[j]) # <1>\n",
    "\n",
    "    qc.report('geometric_sequence')\n",
    "\n",
    "    qc.append_iqft(q)\n",
    "\n",
    "    qc.report('iqft')\n",
    "\n",
    "    return qc"
   ]
  },
  {
   "cell_type": "code",
   "execution_count": 39,
   "metadata": {},
   "outputs": [],
   "source": [
    "def display_reports(qc):\n",
    "    print(f'### Qubits: {n}')\n",
    "    print(f'### Frequency: {v}' + (f' mapped to {round(v%2**n, 2)}' if v >= 2**n or v < 0 else ''))\n",
    "\n",
    "    show_reports(qc)\n",
    "\n",
    "\n",
    "def show_circuit(n, v):\n",
    "    qc = encode_frequency(n, v)\n",
    "    print_circuit(qc)\n",
    "\n",
    "def run(n, v):\n",
    "    qc = encode_frequency(n, v)\n",
    "    display_reports(qc)\n",
    "\n"
   ]
  },
  {
   "cell_type": "code",
   "execution_count": 41,
   "metadata": {},
   "outputs": [
    {
     "name": "stdout",
     "output_type": "stream",
     "text": [
      "### Qubits: 3\n",
      "### Frequency: 4.3\n"
     ]
    },
    {
     "ename": "TypeError",
     "evalue": "print_state_table() got an unexpected keyword argument 'return_str'",
     "output_type": "error",
     "traceback": [
      "\u001b[0;31m---------------------------------------------------------------------------\u001b[0m",
      "\u001b[0;31mTypeError\u001b[0m                                 Traceback (most recent call last)",
      "Cell \u001b[0;32mIn[41], line 2\u001b[0m\n\u001b[1;32m      1\u001b[0m \u001b[38;5;28;01mfrom\u001b[39;00m \u001b[38;5;21;01mhume\u001b[39;00m\u001b[38;5;21;01m.\u001b[39;00m\u001b[38;5;21;01msimulator\u001b[39;00m\u001b[38;5;21;01m.\u001b[39;00m\u001b[38;5;21;01mcircuit\u001b[39;00m \u001b[38;5;28;01mimport\u001b[39;00m QuantumCircuit, QuantumRegister\n\u001b[0;32m----> 2\u001b[0m \u001b[43mrun\u001b[49m\u001b[43m(\u001b[49m\u001b[43mn\u001b[49m\u001b[43m,\u001b[49m\u001b[43m \u001b[49m\u001b[43mv\u001b[49m\u001b[43m)\u001b[49m\n",
      "Cell \u001b[0;32mIn[39], line 21\u001b[0m, in \u001b[0;36mrun\u001b[0;34m(n, v)\u001b[0m\n\u001b[1;32m     19\u001b[0m qc \u001b[38;5;241m=\u001b[39m encode_frequency(n, v)\n\u001b[1;32m     20\u001b[0m \u001b[38;5;66;03m# display_reports(qc)\u001b[39;00m\n\u001b[0;32m---> 21\u001b[0m \u001b[43mdisplay_reports_2\u001b[49m\u001b[43m(\u001b[49m\u001b[43mqc\u001b[49m\u001b[43m)\u001b[49m\n",
      "Cell \u001b[0;32mIn[39], line 11\u001b[0m, in \u001b[0;36mdisplay_reports_2\u001b[0;34m(qc)\u001b[0m\n\u001b[1;32m      8\u001b[0m \u001b[38;5;28mprint\u001b[39m(\u001b[38;5;124mf\u001b[39m\u001b[38;5;124m'\u001b[39m\u001b[38;5;124m### Qubits: \u001b[39m\u001b[38;5;132;01m{\u001b[39;00mn\u001b[38;5;132;01m}\u001b[39;00m\u001b[38;5;124m'\u001b[39m)\n\u001b[1;32m      9\u001b[0m \u001b[38;5;28mprint\u001b[39m(\u001b[38;5;124mf\u001b[39m\u001b[38;5;124m'\u001b[39m\u001b[38;5;124m### Frequency: \u001b[39m\u001b[38;5;132;01m{\u001b[39;00mv\u001b[38;5;132;01m}\u001b[39;00m\u001b[38;5;124m'\u001b[39m \u001b[38;5;241m+\u001b[39m (\u001b[38;5;124mf\u001b[39m\u001b[38;5;124m'\u001b[39m\u001b[38;5;124m mapped to \u001b[39m\u001b[38;5;132;01m{\u001b[39;00m\u001b[38;5;28mround\u001b[39m(v\u001b[38;5;241m%\u001b[39m\u001b[38;5;241m2\u001b[39m\u001b[38;5;241m*\u001b[39m\u001b[38;5;241m*\u001b[39mn,\u001b[38;5;250m \u001b[39m\u001b[38;5;241m2\u001b[39m)\u001b[38;5;132;01m}\u001b[39;00m\u001b[38;5;124m'\u001b[39m \u001b[38;5;28;01mif\u001b[39;00m v \u001b[38;5;241m>\u001b[39m\u001b[38;5;241m=\u001b[39m \u001b[38;5;241m2\u001b[39m\u001b[38;5;241m*\u001b[39m\u001b[38;5;241m*\u001b[39mn \u001b[38;5;129;01mor\u001b[39;00m v \u001b[38;5;241m<\u001b[39m \u001b[38;5;241m0\u001b[39m \u001b[38;5;28;01melse\u001b[39;00m \u001b[38;5;124m'\u001b[39m\u001b[38;5;124m'\u001b[39m))\n\u001b[0;32m---> 11\u001b[0m \u001b[43mshow_reports_string\u001b[49m\u001b[43m(\u001b[49m\u001b[43mqc\u001b[49m\u001b[43m)\u001b[49m\n",
      "Cell \u001b[0;32mIn[36], line 108\u001b[0m, in \u001b[0;36mshow_reports_string\u001b[0;34m(qc)\u001b[0m\n\u001b[1;32m    106\u001b[0m     qc_qiskit \u001b[38;5;241m=\u001b[39m hume_to_qiskit(qc\u001b[38;5;241m.\u001b[39mregs, report[\u001b[38;5;241m1\u001b[39m])\n\u001b[1;32m    107\u001b[0m     output_str \u001b[38;5;241m+\u001b[39m\u001b[38;5;241m=\u001b[39m \u001b[38;5;28mstr\u001b[39m(qc_qiskit) \u001b[38;5;241m+\u001b[39m \u001b[38;5;124m'\u001b[39m\u001b[38;5;130;01m\\n\u001b[39;00m\u001b[38;5;124m'\u001b[39m\n\u001b[0;32m--> 108\u001b[0m     output_str \u001b[38;5;241m+\u001b[39m\u001b[38;5;241m=\u001b[39m \u001b[43mprint_state_table\u001b[49m\u001b[43m(\u001b[49m\u001b[43mreport\u001b[49m\u001b[43m[\u001b[49m\u001b[38;5;241;43m2\u001b[39;49m\u001b[43m]\u001b[49m\u001b[43m,\u001b[49m\u001b[43m \u001b[49m\u001b[43mreturn_str\u001b[49m\u001b[38;5;241;43m=\u001b[39;49m\u001b[38;5;28;43;01mTrue\u001b[39;49;00m\u001b[43m)\u001b[49m  \u001b[38;5;66;03m# Assuming print_state_table can return a string\u001b[39;00m\n\u001b[1;32m    109\u001b[0m     output_str \u001b[38;5;241m+\u001b[39m\u001b[38;5;241m=\u001b[39m \u001b[38;5;124m'\u001b[39m\u001b[38;5;130;01m\\n\u001b[39;00m\u001b[38;5;124m'\u001b[39m\n\u001b[1;32m    111\u001b[0m \u001b[38;5;28;01mreturn\u001b[39;00m output_str\n",
      "\u001b[0;31mTypeError\u001b[0m: print_state_table() got an unexpected keyword argument 'return_str'"
     ]
    }
   ],
   "source": [
    "from hume.simulator.circuit import QuantumCircuit, QuantumRegister\n",
    "run(n, v)"
   ]
  },
  {
   "cell_type": "code",
   "execution_count": 13,
   "metadata": {},
   "outputs": [
    {
     "name": "stdout",
     "output_type": "stream",
     "text": [
      "     ┌───┐┌───────────┐                                        ┌───┐   \n",
      "q_0: ┤ H ├┤ P(3.3772) ├────────────────■──────────────■────────┤ H ├─X─\n",
      "     ├───┤├───────────┤                │        ┌───┐ │P(-π/2) └───┘ │ \n",
      "q_1: ┤ H ├┤ P(6.7544) ├──────■─────────┼────────┤ H ├─■──────────────┼─\n",
      "     ├───┤├───────────┤┌───┐ │P(-π/2)  │P(-π/4) └───┘                │ \n",
      "q_2: ┤ H ├┤ P(13.509) ├┤ H ├─■─────────■─────────────────────────────X─\n",
      "     └───┘└───────────┘└───┘                                           \n"
     ]
    }
   ],
   "source": [
    "show_circuit(n, v)"
   ]
  }
 ],
 "metadata": {
  "kernelspec": {
   "display_name": "learnqc",
   "language": "python",
   "name": "python3"
  },
  "language_info": {
   "codemirror_mode": {
    "name": "ipython",
    "version": 3
   },
   "file_extension": ".py",
   "mimetype": "text/x-python",
   "name": "python",
   "nbconvert_exporter": "python",
   "pygments_lexer": "ipython3",
   "version": "3.12.3"
  }
 },
 "nbformat": 4,
 "nbformat_minor": 2
}
